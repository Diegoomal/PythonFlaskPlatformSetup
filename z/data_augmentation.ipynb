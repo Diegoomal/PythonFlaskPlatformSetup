{
  "cells": [
    {
      "cell_type": "code",
      "execution_count": 207,
      "metadata": {},
      "outputs": [
        {
          "name": "stdout",
          "output_type": "stream",
          "text": [
            "a\n"
          ]
        }
      ],
      "source": [
        "print('a')"
      ]
    },
    {
      "cell_type": "markdown",
      "metadata": {},
      "source": [
        "https://medium.com/image-stitching-com-opencv-e-python/data-augmentation-com-opencv-e-numpy-a1dda1ee90f8"
      ]
    },
    {
      "cell_type": "code",
      "execution_count": 208,
      "metadata": {},
      "outputs": [],
      "source": [
        "# !pip install scikit-image"
      ]
    },
    {
      "cell_type": "code",
      "execution_count": 209,
      "metadata": {},
      "outputs": [],
      "source": [
        "import os\n",
        "import random\n",
        "\n",
        "import cv2\n",
        "import numpy as np\n",
        "import matplotlib.pyplot as plt\n",
        "\n",
        "from skimage import io, img_as_ubyte\n",
        "from skimage.transform import rotate, AffineTransform, warp\n",
        "from skimage.util import random_noise"
      ]
    },
    {
      "cell_type": "markdown",
      "metadata": {},
      "source": [
        "cerveja_itaipava_lata_350ml\n",
        "cerveja_bavaria_lata_350ml"
      ]
    },
    {
      "cell_type": "code",
      "execution_count": 210,
      "metadata": {},
      "outputs": [],
      "source": [
        "def rotation_anti_clockwise(image):\n",
        "    angle = random.randint(0, 180)\n",
        "    return rotate(image, angle)\n",
        "\n",
        "def rotation_clockwise(image):\n",
        "    angle = random.randint(0, 180)\n",
        "    return rotate(image, -angle)\n",
        "\n",
        "def h_flip(image):\n",
        "    return np.fliplr(image)\n",
        "\n",
        "def v_flip(image):\n",
        "    return np.flipud(image)\n",
        "\n",
        "def brightness(image):\n",
        "    bright = np.ones(image.shape, dtype=\"uint8\") * 70\n",
        "    brightincrease = cv2.add(image, bright)\n",
        "    return brightincrease\n",
        "\n",
        "def blur_img(image):\n",
        "    k_size = random.randrange(1, 10, 2)\n",
        "    img_blur = cv2.medianBlur(image, k_size)\n",
        "    return img_blur\n",
        "\n",
        "def noise_img(image):\n",
        "    return random_noise(image)\n",
        "\n",
        "def zoom(image):\n",
        "    zoom_value = random.random()\n",
        "    hidth, width = image.shape[:2]\n",
        "    h_taken = int(zoom_value*hidth)\n",
        "    w_taken = int(zoom_value*width)\n",
        "    h_start = random.randint(0, hidth-h_taken)\n",
        "    w_start = random.randint(0, width-w_taken)\n",
        "    image = image[h_start:h_start+h_taken, w_start:w_start+w_taken, :]\n",
        "    image = cv2.resize(image, (hidth, width), cv2.INTER_CUBIC)\n",
        "    return image"
      ]
    },
    {
      "cell_type": "code",
      "execution_count": 211,
      "metadata": {},
      "outputs": [],
      "source": [
        "transformations = {\n",
        "    'rotation_anti_horaria': rotation_anti_clockwise,\n",
        "    'rotation_horaria': rotation_clockwise,\n",
        "    'horizontal_flip': h_flip,\n",
        "    'vertical_flip': v_flip,\n",
        "    'brightness': brightness,\n",
        "    'blur_img': blur_img,\n",
        "    'noise': noise_img,\n",
        "    'zoom': zoom\n",
        "}"
      ]
    },
    {
      "cell_type": "code",
      "execution_count": 212,
      "metadata": {},
      "outputs": [],
      "source": [
        "path_imgs_src = '../download_img_from_google/dataset5/stella_artrois_long_neck_330ml/'"
      ]
    },
    {
      "cell_type": "code",
      "execution_count": 213,
      "metadata": {},
      "outputs": [
        {
          "name": "stdout",
          "output_type": "stream",
          "text": [
            "path aumented not found. creating\n"
          ]
        }
      ],
      "source": [
        "# Imagens originais\n",
        "if os.path.isdir(path_imgs_src) == False:\n",
        "    print('path scr not found')\n",
        "    \n",
        "path_dir_aumented = os.path.join(path_imgs_src, 'aumented')\n",
        "\n",
        "if os.path.isdir(path_dir_aumented):\n",
        "    print('path exists')\n",
        "else:\n",
        "    print('path aumented not found. creating')\n",
        "    os.mkdir(path_dir_aumented)"
      ]
    },
    {
      "cell_type": "code",
      "execution_count": 214,
      "metadata": {},
      "outputs": [],
      "source": [
        "images = []\n",
        "\n",
        "for filename in os.listdir(path_imgs_src):\n",
        "    if str(filename).__contains__('aumented'):\n",
        "        continue\n",
        "    images.append(os.path.join(path_imgs_src, filename))"
      ]
    },
    {
      "cell_type": "code",
      "execution_count": 215,
      "metadata": {},
      "outputs": [],
      "source": [
        "for i, path_img in enumerate(images, start=0):\n",
        "    for j, transformation in enumerate(list(transformations), start=0):\n",
        "            \n",
        "            transformed_image = transformations[transformation](   io.imread(path_img)   )\n",
        "\n",
        "            transformed_image = img_as_ubyte(transformed_image)\n",
        "\n",
        "            transformed_image = cv2.cvtColor(transformed_image, cv2.COLOR_BGR2RGB)\n",
        "\n",
        "            cv2.imwrite(\n",
        "                os.path.join(path_dir_aumented, (str(i) + '_' + str(j) + '.jpg'))\n",
        "                , transformed_image\n",
        "            )"
      ]
    },
    {
      "cell_type": "code",
      "execution_count": 250,
      "metadata": {},
      "outputs": [],
      "source": [
        "# !pip install imageio"
      ]
    },
    {
      "cell_type": "code",
      "execution_count": 249,
      "metadata": {},
      "outputs": [],
      "source": [
        "# path_imgs_src = '../download_img_from_google/dataset5/stella_artrois_long_neck_330ml/'\n",
        "\n",
        "# # renomeia todos arquivos do diretorio\n",
        "# for index, filename in enumerate(os.listdir(path_imgs_src)): \n",
        "#     src = os.path.join(path_imgs_src, filename)\n",
        "#     dst = os.path.join(path_imgs_src, str(index) + '.jpg')\n",
        "#     os.rename(src, dst)"
      ]
    }
  ],
  "metadata": {
    "colab": {
      "collapsed_sections": [],
      "name": "Trabalho Prático Final T1 - _Seu Nome_.ipynb",
      "provenance": []
    },
    "kernelspec": {
      "display_name": "Python 3.7.6 64-bit",
      "language": "python",
      "name": "python3"
    },
    "language_info": {
      "codemirror_mode": {
        "name": "ipython",
        "version": 3
      },
      "file_extension": ".py",
      "mimetype": "text/x-python",
      "name": "python",
      "nbconvert_exporter": "python",
      "pygments_lexer": "ipython3",
      "version": "3.7.6"
    },
    "vscode": {
      "interpreter": {
        "hash": "40040881626c9fb1875d7120c6f8fb214925b9b787db6e21a1a1fd53c013645f"
      }
    }
  },
  "nbformat": 4,
  "nbformat_minor": 0
}
