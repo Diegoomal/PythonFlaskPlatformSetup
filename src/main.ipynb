{
 "cells": [
  {
   "cell_type": "code",
   "execution_count": null,
   "metadata": {},
   "outputs": [],
   "source": [
    "# # make sure you're logged in with `huggingface-cli login`\n",
    "# from torch import autocast\n",
    "# from diffusers import StableDiffusionPipeline\n",
    "\n",
    "# pipe = StableDiffusionPipeline.from_pretrained(\n",
    "# \t\"CompVis/stable-diffusion-v1-4\", \n",
    "# \tuse_auth_token=True\n",
    "# ).to(\"cuda\")\n",
    "\n",
    "# prompt = \"a photo of an astronaut riding a horse on mars\"\n",
    "# with autocast(\"cuda\"):\n",
    "#     image = pipe(prompt)[\"sample\"][0]  \n",
    "    \n",
    "# image.save(\"astronaut_rides_horse.png\")"
   ]
  }
 ],
 "metadata": {
  "kernelspec": {
   "display_name": "project-env",
   "language": "python",
   "name": "python3"
  },
  "language_info": {
   "codemirror_mode": {
    "name": "ipython",
    "version": 3
   },
   "file_extension": ".py",
   "mimetype": "text/x-python",
   "name": "python",
   "nbconvert_exporter": "python",
   "pygments_lexer": "ipython3",
   "version": "3.10.13"
  }
 },
 "nbformat": 4,
 "nbformat_minor": 2
}
