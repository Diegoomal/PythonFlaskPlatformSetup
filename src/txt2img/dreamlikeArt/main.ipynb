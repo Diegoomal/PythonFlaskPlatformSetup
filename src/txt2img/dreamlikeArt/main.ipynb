{
 "cells": [
  {
   "cell_type": "markdown",
   "metadata": {},
   "source": [
    "https://huggingface.co/dreamlike-art/dreamlike-photoreal-2.0"
   ]
  },
  {
   "cell_type": "code",
   "execution_count": 1,
   "metadata": {},
   "outputs": [
    {
     "name": "stderr",
     "output_type": "stream",
     "text": [
      "/home/mal/miniconda3/envs/project-env/lib/python3.10/site-packages/tqdm/auto.py:21: TqdmWarning: IProgress not found. Please update jupyter and ipywidgets. See https://ipywidgets.readthedocs.io/en/stable/user_install.html\n",
      "  from .autonotebook import tqdm as notebook_tqdm\n",
      "/home/mal/miniconda3/envs/project-env/lib/python3.10/site-packages/diffusers/utils/outputs.py:63: UserWarning: torch.utils._pytree._register_pytree_node is deprecated. Please use torch.utils._pytree.register_pytree_node instead.\n",
      "  torch.utils._pytree._register_pytree_node(\n",
      "/home/mal/miniconda3/envs/project-env/lib/python3.10/site-packages/diffusers/utils/outputs.py:63: UserWarning: torch.utils._pytree._register_pytree_node is deprecated. Please use torch.utils._pytree.register_pytree_node instead.\n",
      "  torch.utils._pytree._register_pytree_node(\n"
     ]
    }
   ],
   "source": [
    "from diffusers import StableDiffusionPipeline\n",
    "import torch"
   ]
  },
  {
   "cell_type": "code",
   "execution_count": 2,
   "metadata": {},
   "outputs": [
    {
     "name": "stderr",
     "output_type": "stream",
     "text": [
      "Loading pipeline components...: 100%|██████████| 5/5 [00:07<00:00,  1.49s/it]\n"
     ]
    }
   ],
   "source": [
    "pipe = StableDiffusionPipeline.from_pretrained(\n",
    "    'dreamlike-art/dreamlike-photoreal-2.0',\n",
    "    torch_dtype=torch.float32,\n",
    "    low_cpu_mem_usage=True,\n",
    "    safety_checker = None,\n",
    "    requires_safety_checker = False,\n",
    ")"
   ]
  },
  {
   "cell_type": "code",
   "execution_count": 3,
   "metadata": {},
   "outputs": [
    {
     "name": "stdout",
     "output_type": "stream",
     "text": [
      "GPU está disponível\n"
     ]
    }
   ],
   "source": [
    "device = ''\n",
    "if torch.cuda.is_available():\n",
    "    device = torch.device('cuda')\n",
    "    print('GPU está disponível')\n",
    "else:\n",
    "    device = torch.device('cpu')\n",
    "    print('GPU não está disponível, usando CPU')"
   ]
  },
  {
   "cell_type": "code",
   "execution_count": 4,
   "metadata": {},
   "outputs": [],
   "source": [
    "pipe = pipe.to(device)"
   ]
  },
  {
   "cell_type": "code",
   "execution_count": 5,
   "metadata": {},
   "outputs": [],
   "source": [
    "# prompt = 'photo, a church in the middle of a field of crops, bright cinematic lighting, gopro, fisheye lens'\n",
    "# prompt = 'photo, self, sexy girl'"
   ]
  },
  {
   "cell_type": "code",
   "execution_count": 6,
   "metadata": {},
   "outputs": [
    {
     "name": "stderr",
     "output_type": "stream",
     "text": [
      "100%|██████████| 50/50 [02:54<00:00,  3.49s/it]\n"
     ]
    }
   ],
   "source": [
    "# image = pipe(prompt).images[0]"
   ]
  },
  {
   "cell_type": "code",
   "execution_count": 7,
   "metadata": {},
   "outputs": [],
   "source": [
    "# from datetime import datetime\n",
    "\n",
    "# filename = int(datetime.now().timestamp() * 1000)\n",
    "\n",
    "# image.save(f'./assets/{ filename }.png')"
   ]
  },
  {
   "cell_type": "code",
   "execution_count": 22,
   "metadata": {},
   "outputs": [],
   "source": [
    "prompts = [\n",
    "    # 'photo, self, only fans, full body, asian face with green eyes',\n",
    "    # 'A photorealistic image of a 25-year-old German woman wearing traditional German clothing, holding a beer mug, with blonde hair and light eyes. The image should be a self-portrait and the woman may be associated with the platform OnlyFans.',\n",
    "    'A photorealistic image of a 25-year-old German woman wearing traditional German clothing, holding a beer mug with one hand while the other hand is hidden from view, with blonde hair and light eyes. The image should be a self-portrait and the woman may be associated with the platform OnlyFans.'\n",
    "]"
   ]
  },
  {
   "cell_type": "code",
   "execution_count": 9,
   "metadata": {},
   "outputs": [],
   "source": [
    "from datetime import datetime"
   ]
  },
  {
   "cell_type": "code",
   "execution_count": 12,
   "metadata": {},
   "outputs": [],
   "source": [
    "# default 50\n",
    "N_INF_STEPS = 50"
   ]
  },
  {
   "cell_type": "code",
   "execution_count": 23,
   "metadata": {},
   "outputs": [
    {
     "name": "stderr",
     "output_type": "stream",
     "text": [
      "100%|██████████| 50/50 [03:58<00:00,  4.77s/it]\n"
     ]
    }
   ],
   "source": [
    "for prompt in prompts:\n",
    "    \n",
    "    image = pipe(\n",
    "        prompt,\n",
    "        num_inference_steps=N_INF_STEPS\n",
    "    ).images[0]\n",
    "    \n",
    "    filename = int(datetime.now().timestamp() * 1000)\n",
    "    \n",
    "    image.save(f'./assets/{ filename }.png')"
   ]
  }
 ],
 "metadata": {
  "kernelspec": {
   "display_name": "project-env",
   "language": "python",
   "name": "python3"
  },
  "language_info": {
   "codemirror_mode": {
    "name": "ipython",
    "version": 3
   },
   "file_extension": ".py",
   "mimetype": "text/x-python",
   "name": "python",
   "nbconvert_exporter": "python",
   "pygments_lexer": "ipython3",
   "version": "3.10.13"
  }
 },
 "nbformat": 4,
 "nbformat_minor": 2
}
